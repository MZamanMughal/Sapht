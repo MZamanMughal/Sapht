{
 "cells": [
  {
   "cell_type": "markdown",
   "metadata": {
    "collapsed": true
   },
   "source": [
    "# Steps Required"
   ]
  },
  {
   "cell_type": "markdown",
   "metadata": {},
   "source": [
    "### 1. Install Stanford CoreNLP"
   ]
  },
  {
   "cell_type": "markdown",
   "metadata": {},
   "source": [
    "\n",
    "The latest version at this time (2017-07-11) is 3.8.0:\n",
    "\n",
    "wget http://nlp.stanford.edu/software/stanford-corenlp-full-2017-06-09.zip\n",
    "unzip stanford-corenlp-full-2017-06-09.zip"
   ]
  },
  {
   "cell_type": "markdown",
   "metadata": {},
   "source": [
    "### 2. Start the Server"
   ]
  },
  {
   "cell_type": "markdown",
   "metadata": {},
   "source": [
    "1) cd stanford-corenlp-full-(2017-06-09)folder\n",
    "\n",
    "2) Write down following command in terminal:\n",
    "    java -mx5g -cp \"*\" edu.stanford.nlp.pipeline.StanfordCoreNLPServer -timeout 10000\n",
    "\n",
    "NB: timeout is in milliseconds, I set it to 10 sec above. You should increase it if you pass huge blobs to the server.\n"
   ]
  },
  {
   "cell_type": "markdown",
   "metadata": {},
   "source": [
    "### 3. Install the python package\n"
   ]
  },
  {
   "cell_type": "markdown",
   "metadata": {},
   "source": [
    "pip install pycorenlp"
   ]
  },
  {
   "cell_type": "markdown",
   "metadata": {},
   "source": [
    "# Model Code"
   ]
  },
  {
   "cell_type": "markdown",
   "metadata": {},
   "source": [
    "#### Import"
   ]
  },
  {
   "cell_type": "code",
   "execution_count": 59,
   "metadata": {
    "collapsed": true
   },
   "outputs": [],
   "source": [
    "from pycorenlp import StanfordCoreNLP"
   ]
  },
  {
   "cell_type": "markdown",
   "metadata": {},
   "source": [
    "#### Connect the wrapper to the server "
   ]
  },
  {
   "cell_type": "code",
   "execution_count": 60,
   "metadata": {
    "collapsed": true
   },
   "outputs": [],
   "source": [
    "nlp = StanfordCoreNLP('http://localhost:9000')"
   ]
  },
  {
   "cell_type": "markdown",
   "metadata": {},
   "source": [
    "#### Sentiment Funtion"
   ]
  },
  {
   "cell_type": "code",
   "execution_count": 61,
   "metadata": {
    "collapsed": true
   },
   "outputs": [],
   "source": [
    "def give_me_sentiments(sentence):\n",
    "    '''\n",
    "    Args:\n",
    "        sentence (string): either a single sentence or multiple sentences separeted by '.'\n",
    "    \n",
    "    Returns:\n",
    "        sentiment_values ( list ) : list of sentiment values\n",
    "        \n",
    "        Range (0-4)\n",
    "        0-Strongly Negative\n",
    "        1-Negative\n",
    "        2-Neutral\n",
    "        3-Positive\n",
    "        4-Strongly Positive\n",
    "    \n",
    "    '''\n",
    "    \n",
    "    \n",
    "    sentiment_values=[]\n",
    "    res = nlp.annotate(sentence,\n",
    "                   properties={\n",
    "                       'annotators': 'sentiment',\n",
    "                       'outputFormat': 'json'\n",
    "                   })\n",
    "   \n",
    "\n",
    "    for s in res[\"sentences\"]:\n",
    "        sentiment_values.append(s[\"sentimentValue\"])\n",
    "        \n",
    "        #If you want to print the sentences and values too please uncomment below lines\n",
    "#        print (\"%d: '%s': %s %s\" % (\n",
    "#             s[\"index\"],\n",
    "#             \" \".join([t[\"word\"] for t in s[\"tokens\"]]),\n",
    "#             s[\"sentimentValue\"], s[\"sentiment\"]))\n",
    "        \n",
    "    \n",
    "    return sentiment_values"
   ]
  },
  {
   "cell_type": "markdown",
   "metadata": {},
   "source": [
    "### Test run on Trump Tweets"
   ]
  },
  {
   "cell_type": "code",
   "execution_count": 62,
   "metadata": {},
   "outputs": [
    {
     "data": {
      "text/plain": [
       "['1', '1', '1']"
      ]
     },
     "execution_count": 62,
     "metadata": {},
     "output_type": "execute_result"
    }
   ],
   "source": [
    "sentence_trump_tweets=\"More Russian media from February 2014 Headline Donald Trump Stop picking on Russia. Donald Trump s new FBI director pick has Russian ties of his own Vote NO. Donald Trump is Motivated By his HATE of Barack Obama amp Love for Money Not His LOVE for America If You Agree\"\n",
    "give_me_sentiments(sentence_trump_tweets)"
   ]
  }
 ],
 "metadata": {
  "kernelspec": {
   "display_name": "Python 3",
   "language": "python",
   "name": "python3"
  },
  "language_info": {
   "codemirror_mode": {
    "name": "ipython",
    "version": 3
   },
   "file_extension": ".py",
   "mimetype": "text/x-python",
   "name": "python",
   "nbconvert_exporter": "python",
   "pygments_lexer": "ipython3",
   "version": "3.6.1"
  }
 },
 "nbformat": 4,
 "nbformat_minor": 2
}
